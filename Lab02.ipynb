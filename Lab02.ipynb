{
 "cells": [
  {
   "cell_type": "markdown",
   "metadata": {},
   "source": [
    "# Stability of Forward and Backward Euler"
   ]
  },
  {
   "cell_type": "markdown",
   "metadata": {},
   "source": [
    "\\begin{equation*}\n",
    "Y^{n+1}   = Y^n +{\\Delta}tf(Y^n, t^n)\n",
    "\\end{equation*}"
   ]
  },
  {
   "cell_type": "markdown",
   "metadata": {},
   "source": [
    "\\begin{equation*}\n",
    "\\frac{dy}{dt} = {\\lambda}y \\quad \\quad y(0) = y_0\n",
    "\\end{equation*}"
   ]
  },
  {
   "cell_type": "markdown",
   "metadata": {},
   "source": [
    "\\begin{equation*}\n",
    "y(t) = y_0e^{{\\lambda}t} \\quad \\quad {\\lambda} = -8\n",
    "\\end{equation*}"
   ]
  },
  {
   "cell_type": "code",
   "execution_count": 1,
   "metadata": {},
   "outputs": [],
   "source": [
    "#import external modules\n",
    "import numpy as np\n",
    "import matplotlib.pyplot as plt\n",
    "%matplotlib inline\n",
    "\n",
    "# def forward_euler(y0, t0, tf, dt, f):\n",
    "def forward_euler(f, t, y0, dt):\n",
    "    \"\"\"\n",
    "    Implementation of the Forward Euler method \n",
    "    y[i+1] = y[i] + h * f(x[i], y[i]) where f(x[i], y[i]) is the differntial \n",
    "    equation evaluated at x[i] and y[i]\n",
    "    Input:\n",
    "        f - function f(y,t)\n",
    "        t - data structure is a numpy array with t[0] initial time \n",
    "        and t[-1] final time\n",
    "        y0 - data structure is a numpy array with initial value 1.0\n",
    "        dt - data structure is a numpy array time step\n",
    "    Output:\n",
    "        x - vector of time steps \n",
    "        y - vector of approximate solutions\n",
    "    \"\"\"\n",
    "    #return evenly spaced values between 0.0 and 1.0+h with itervals of h\n",
    "    #this creates time intervals  \n",
    "    x = np.arange(t[0], t[-1]+dt, dt)\n",
    "\n",
    "    #initialize y by returning a numpy array with shape 101, filled with zeros \n",
    "    #this preallocation is necessary for time reasons and to add values into array\n",
    "    y = np.zeros(len(x+1))\n",
    "\n",
    "    #assign time at position 0 to starting time (0.0) and set \n",
    "    #approximation at time step 0 = 1.0 which is \n",
    "    #the initial value given \n",
    "    x[0], y[0] = t[0] ,y0\n",
    "\n",
    "    #apply Euler's method \n",
    "    for i in range(1, len(x)):\n",
    "        y[i] = y[i-1] + dt * f(x[i - 1], y[i - 1])\n",
    "\n",
    "    \n",
    "    #return time (x) and approximations (y)\n",
    "    return x, y"
   ]
  },
  {
   "cell_type": "code",
   "execution_count": 4,
   "metadata": {},
   "outputs": [],
   "source": [
    "import numpy as np\n",
    "import pandas as pd \n",
    "\n",
    "def newtons_method(maxIter, tol, f, f_prime, x0):\n",
    "    \"\"\"\n",
    "    Implementation of Newton's Method\n",
    "    Input: \n",
    "        maxIter - maximum number of iterations\n",
    "        tol - telerance used for stopping criteria \n",
    "        f - the function handle for the function f(x)\n",
    "        f_prime - the function handle for the function's derivative\n",
    "        x0 - the initial point \n",
    "    Output: \n",
    "        x1 - approximations \n",
    "        iter1 - number of iterations \n",
    "    \"\"\"\n",
    "    #begin counting iterations \n",
    "    iter1 = 0\n",
    "    x1 = 0\n",
    "    \n",
    "    #iterate while the iteration counter is less than your iteration cap and \n",
    "    #the function value is not close to 0\n",
    "    while (iter1 < maxIter and abs(f(x0)) > tol):\n",
    "        \n",
    "        #Newton's method definition \n",
    "        x1 = x0 - f(x0)/f_prime(x0)\n",
    "        \n",
    "        #update counter \n",
    "        iter1 += 1\n",
    "        \n",
    "        #disrupt loop if error is less than your tolerance \n",
    "        if (abs(x1 - x0) < tol):\n",
    "            break\n",
    "        #update position\n",
    "        else:\n",
    "            x0 = x1\n",
    "        \n",
    "    return x1, iter1"
   ]
  },
  {
   "cell_type": "code",
   "execution_count": 5,
   "metadata": {},
   "outputs": [],
   "source": [
    "#import external modules \n",
    "import numpy as np\n",
    "import matplotlib.pyplot as plt\n",
    "%matplotlib inline\n",
    "\n",
    "#Psudocode of Backward Euler \n",
    "def backward_euler(y0, t, dt, f, fdy):\n",
    "    \n",
    "    #return evenly spaced values between 0.0 and 1.0+h with itervals of h\n",
    "    #this creates time intervals  \n",
    "    T = np.arange(t[0], t[-1]+dt, dt)\n",
    "\n",
    "    #initialize y by returning a numpy array with shape 101, filled with zeros \n",
    "    #this preallocation is necessary for time reasons and to add values into array\n",
    "    Y = np.zeros(len(T))\n",
    "\n",
    "    #assign time at position 0 to starting time (0.0) \n",
    "    #and set approximation at time step 0 = 1.0 which \n",
    "    #is the initial value given \n",
    "    T[0], Y[0] = t[0] ,y0\n",
    "\n",
    "    #apply Euler's method \n",
    "    for i in range(1, len(T)):\n",
    "\n",
    "        Y[i] = backward_euler_step(Y[i-1], T[i], dt, f, fdy)\n",
    "    \n",
    "    return Y, T\n",
    "\n",
    "#function for one step of backward euler \n",
    "def backward_euler_step(YN, TNext, dt, f, fdy):\n",
    "    \n",
    "    #define your maximumiterations and tolerance for newtons_method \n",
    "    max_iterations = 1000\n",
    "    tolerance = 1e-06\n",
    "    \n",
    "    #define g and gdy\n",
    "    g = lambda y: y-YN-dt*f(y, TNext)\n",
    "    gdy = lambda y: 1-dt*fdy(y, TNext)\n",
    "    \n",
    "    y_next, iteration = newtons_method(max_iterations, tolerance, g, gdy, YN)\n",
    "    \n",
    "    return y_next"
   ]
  },
  {
   "cell_type": "markdown",
   "metadata": {},
   "source": [
    "## Code Deliverable "
   ]
  },
  {
   "cell_type": "code",
   "execution_count": 8,
   "metadata": {},
   "outputs": [],
   "source": [
    "import numpy as np\n",
    "import matplotlib.pyplot as plt \n",
    "\n",
    "%matplotlib inline\n",
    "\n",
    "def stabilityPlot(func):\n",
    "    \n",
    "    x = np.linspace(-5, 5, 350)\n",
    "    y = np.linspace(-5, 5, 350)\n",
    "    \n",
    "    X, Y = np.meshgrid(x, y)\n",
    "    \n",
    "    stability = np.zeros((350,len(x)))\n",
    "    \n",
    "    for i in range(1, len(X)):\n",
    "        for k in range(1, len(Y)):\n",
    "            z = X[i:k] + 1j*Y[i:k]\n",
    "            stability[i:k] = (abs(func(z))<1)\n",
    "            \n",
    "    plt.contourf(X, Y, stability, 2)"
   ]
  },
  {
   "cell_type": "markdown",
   "metadata": {},
   "source": [
    "## Exercise "
   ]
  },
  {
   "cell_type": "code",
   "execution_count": 11,
   "metadata": {},
   "outputs": [
    {
     "data": {
      "text/plain": [
       "<matplotlib.legend.Legend at 0xf93cd0>"
      ]
     },
     "execution_count": 11,
     "metadata": {},
     "output_type": "execute_result"
    },
    {
     "data": {
      "image/png": "[encoded data removed]",
      "text/plain": [
       "<Figure size 432x288 with 1 Axes>"
      ]
     },
     "metadata": {
      "needs_background": "light"
     },
     "output_type": "display_data"
    }
   ],
   "source": [
    "#Forward Euler dt = 0.1\n",
    "#define dt \n",
    "dt = 0.1 \n",
    "\n",
    "#define f and xact lambda functions\n",
    "f = lambda  t, y: (-8*y)\n",
    "exact = lambda x : np.exp(-8*x)\n",
    "\n",
    "#initialize t(start) and t(final) can index them as start (t[0]) final (t[-1])\n",
    "t = np.array([0.0, 10.0])\n",
    "\n",
    "#IVP initial value y(0) = 1\n",
    "y0 = np.array([1.0])\n",
    "\n",
    "#call function forward_euler\n",
    "ts, ys = forward_euler(f, t, y0, dt)\n",
    "\n",
    "#plot approx vs exact \n",
    "plt.plot(ts, ys, label='Approximation')\n",
    "plt.plot(ts, exact(ts), label='Exact')\n",
    "plt.title(\"Euler's Method With Approximation at ${\\Delta}$ = 0.1\")\n",
    "plt.xlabel('t'),\n",
    "plt.ylabel('y(t)')\n",
    "plt.legend()"
   ]
  },
  {
   "cell_type": "code",
   "execution_count": 12,
   "metadata": {},
   "outputs": [
    {
     "data": {
      "text/plain": [
       "<matplotlib.legend.Legend at 0x13a01b0>"
      ]
     },
     "execution_count": 12,
     "metadata": {},
     "output_type": "execute_result"
    },
    {
     "data": {
      "image/png": "[encoded data removed]",
      "text/plain": [
       "<Figure size 432x288 with 1 Axes>"
      ]
     },
     "metadata": {
      "needs_background": "light"
     },
     "output_type": "display_data"
    }
   ],
   "source": [
    "#Forward Euler dt = 0.3\n",
    "#define dt \n",
    "dt = 0.3 \n",
    "\n",
    "#call function forward_euler\n",
    "ts, ys = forward_euler(f, t, y0, dt)\n",
    "\n",
    "#plot approx vs exact \n",
    "plt.plot(ts, ys, label='Approximation')\n",
    "plt.plot(ts, exact(ts), label='Exact')\n",
    "plt.title(\"Forward Euler's Method With Approximation at ${\\Delta}$ = 0.3\")\n",
    "plt.xlabel('t'),\n",
    "plt.ylabel('y(t)')\n",
    "plt.legend()"
   ]
  },
  {
   "cell_type": "code",
   "execution_count": 13,
   "metadata": {},
   "outputs": [
    {
     "data": {
      "text/plain": [
       "<matplotlib.legend.Legend at 0x13f9bf0>"
      ]
     },
     "execution_count": 13,
     "metadata": {},
     "output_type": "execute_result"
    },
    {
     "data": {
      "image/png": "[encoded data removed]",
      "text/plain": [
       "<Figure size 432x288 with 1 Axes>"
      ]
     },
     "metadata": {
      "needs_background": "light"
     },
     "output_type": "display_data"
    }
   ],
   "source": [
    "#Backward Euler dt = 0.1\n",
    "#define dt\n",
    "dt = 0.1\n",
    "\n",
    "#define lambda functions for f, fdy, and exact \n",
    "f = lambda  y, t: (-8*y)\n",
    "fdy = lambda y, t: -8\n",
    "exact = lambda x : np.exp(-8*x)\n",
    "\n",
    "#initialize t(start) and t(final) can index them as start (t[0]) final (t[-1])\n",
    "t = np.array([0.0, 10.0])\n",
    "\n",
    "#IVP initial value y(0) = 1\n",
    "y0 = np.array([1.0])\n",
    "\n",
    "#call function backward_euler\n",
    "ys, ts = backward_euler(y0, t, dt, f, fdy)\n",
    "\n",
    "plt.plot(ts, ys, label='Approximation')\n",
    "plt.plot(ts, exact(ts), label='Exact')\n",
    "plt.title(\"Backward Euler's Method With Approximation at ${\\Delta}$ = 0.1\")\n",
    "plt.xlabel('t'),\n",
    "plt.ylabel('y(t)')\n",
    "plt.legend()"
   ]
  },
  {
   "cell_type": "code",
   "execution_count": 14,
   "metadata": {},
   "outputs": [
    {
     "data": {
      "text/plain": [
       "<matplotlib.legend.Legend at 0x141ec30>"
      ]
     },
     "execution_count": 14,
     "metadata": {},
     "output_type": "execute_result"
    },
    {
     "data": {
      "image/png": "[encoded data removed]",
      "text/plain": [
       "<Figure size 432x288 with 1 Axes>"
      ]
     },
     "metadata": {
      "needs_background": "light"
     },
     "output_type": "display_data"
    }
   ],
   "source": [
    "#Backward Euler dt = 0.3\n",
    "#define dt \n",
    "dt = 0.3 \n",
    "\n",
    "#call function forward_euler\n",
    "ys, ts = backward_euler(y0, t, dt, f, fdy)\n",
    "\n",
    "plt.plot(ts, ys, label='Approximation')\n",
    "plt.plot(ts, exact(ts), label='Exact')\n",
    "plt.title(\"Backward Euler's Method With Approximation at ${\\Delta}$ = 0.3\")\n",
    "plt.xlabel('t'),\n",
    "plt.ylabel('y(t)')\n",
    "plt.legend()"
   ]
  },
  {
   "cell_type": "code",
   "execution_count": 15,
   "metadata": {},
   "outputs": [
    {
     "data": {
      "image/png": "[encoded data removed]",
      "text/plain": [
       "<Figure size 432x288 with 1 Axes>"
      ]
     },
     "metadata": {
      "needs_background": "light"
     },
     "output_type": "display_data"
    }
   ],
   "source": [
    "#amplification factor for Forward Euler \n",
    "fe_amp = lambda z: (1 + z)\n",
    "stabilityPlot(fe_amp)"
   ]
  },
  {
   "cell_type": "code",
   "execution_count": 16,
   "metadata": {},
   "outputs": [
    {
     "data": {
      "image/png": "[encoded data removed]",
      "text/plain": [
       "<Figure size 432x288 with 1 Axes>"
      ]
     },
     "metadata": {
      "needs_background": "light"
     },
     "output_type": "display_data"
    }
   ],
   "source": [
    "#amplification factor for Backward Euler\n",
    "be_amp = lambda z: (1 - z)**-1\n",
    "stabilityPlot(be_amp)"
   ]
  },
  {
   "cell_type": "markdown",
   "metadata": {},
   "source": [
    "# Midpoint Method"
   ]
  },
  {
   "cell_type": "markdown",
   "metadata": {},
   "source": [
    "## Exercise"
   ]
  },
  {
   "cell_type": "markdown",
   "metadata": {},
   "source": [
    "Region of stability of Midpoint Method"
   ]
  },
  {
   "cell_type": "markdown",
   "metadata": {},
   "source": [
    "\\begin{equation*}\n",
    "Y^{n+1}   = Y^n +{\\Delta}tf(Y^n+\\frac{{\\Delta}t}{2}f(Y^n,t^n),t^n+\\frac{{\\Delta}t}{2})\n",
    "\\end{equation*}"
   ]
  },
  {
   "cell_type": "markdown",
   "metadata": {},
   "source": [
    "\\begin{equation*}\n",
    "k_1 = {\\Delta}tf(f(Y^n,t^n)) \\\\\n",
    "= {\\Delta}t{\\lambda}Y^n\n",
    "\\end{equation*}"
   ]
  },
  {
   "cell_type": "markdown",
   "metadata": {},
   "source": [
    "\\begin{equation*}\n",
    "k_2 = {\\Delta}tf(Y^n+\\frac{k_1}{2}, t^n + \\frac{{\\Delta}t}{2}) \\\\\n",
    "= {\\Delta}tf(Y^n + \\frac{{\\Delta}t{\\lambda}Y^n}{2}, t^n +\\frac{{\\Delta}t{\\lambda}^2Y^n}{2})\n",
    "\\end{equation*}"
   ]
  },
  {
   "cell_type": "markdown",
   "metadata": {},
   "source": [
    "\\begin{equation*}\n",
    "Y^{n+1}   = Y^n +k_2\n",
    "\\end{equation*}"
   ]
  },
  {
   "cell_type": "markdown",
   "metadata": {},
   "source": [
    "\\begin{equation*}\n",
    "Y^{n+1} = Y^n + {\\Delta}t({\\lambda}Y^n +\\frac{{\\Delta}t{\\lambda}^2Y^n}{2}) \\\\\n",
    "= Y^n(1+{\\lambda}{\\Delta}t + \\frac{({\\Delta}t{\\lambda})^2}{2})\n",
    "\\end{equation*}"
   ]
  },
  {
   "cell_type": "markdown",
   "metadata": {},
   "source": [
    "\\begin{equation*}\n",
    "{\\Lambda}(z) = 1 + z + \\frac{z^2}{2}\n",
    "\\end{equation*}"
   ]
  },
  {
   "cell_type": "code",
   "execution_count": 17,
   "metadata": {},
   "outputs": [
    {
     "data": {
      "image/png": "[encoded data removed]",
      "text/plain": [
       "<Figure size 432x288 with 1 Axes>"
      ]
     },
     "metadata": {
      "needs_background": "light"
     },
     "output_type": "display_data"
    }
   ],
   "source": [
    "#amplification factor for Midpoint Method\n",
    "midpoint_amp = lambda z: (1 + z + (z)**2/2)\n",
    "stabilityPlot(midpoint_amp)"
   ]
  },
  {
   "cell_type": "markdown",
   "metadata": {},
   "source": [
    "# Runge-Kutta Methods"
   ]
  },
  {
   "cell_type": "markdown",
   "metadata": {},
   "source": [
    "## Code Deliverable "
   ]
  },
  {
   "cell_type": "code",
   "execution_count": 18,
   "metadata": {},
   "outputs": [],
   "source": [
    "def rk4(f, y0, t0, tf, dt):\n",
    "    \n",
    "    #Initialize error vector\n",
    "    err = []\n",
    "    \n",
    "    #print tabulated results \n",
    "    print(\"Results:\\n\\ndt\\tapprox\\t\\terror\\n\")\n",
    "    \n",
    "    #iterate through eatch delta t\n",
    "    for h in dt:\n",
    "        \n",
    "        #return evenly spaced values between 0.0 and 1.0+h with itervals of h\n",
    "        #this creates time intervals  \n",
    "        t = np.arange(t0, tf+h, h)\n",
    "        \n",
    "        #initialize y by returning a numpy array with shape 101, filled with zeros \n",
    "        #this preallocation is necessary for time reasons and to add values into array\n",
    "        y = np.zeros(len(t+1))\n",
    "        \n",
    "        #assign time at position 0 to starting time (0.0) and set \n",
    "        #approximation at time step 0 = 1.0 which is \n",
    "        #the initial value given \n",
    "        t[0], y[0] = t0, y0 \n",
    "        \n",
    "        #apply rk4\n",
    "        for i in range(1, len(t)):\n",
    "            \n",
    "            k1 = h * f(y[i], t[i])\n",
    "            k2 = h * f(y[i] + 0.5 * k1, t[i] + 0.5 * h)\n",
    "            k3 = h * f(y[i] + 0.5 * k2, t[i] + 0.5 * h)\n",
    "            k4 = h * f(y[i] + k3, t[i] + h)\n",
    "            \n",
    "            y[i] = y[i-1] + (k1 + 2 * k2 + 2 * k3 + k4)/6\n",
    "            t[i] = t0 + i*h\n",
    "            \n",
    "        #calculate error and append values for each h to err list\n",
    "        e = [np.abs(y[-1] - exact(t[-1]))]\n",
    "        err.append(e)\n",
    "        \n",
    "        #Print tabulated results \n",
    "        print('{:.4f}'.format(round(h,4)), '|', \n",
    "              '{:.4f}'.format(round(y[-1],6)), '|' , err[-1])\n",
    "        \n",
    "    #Plot log log plot \n",
    "    plt.loglog(dt, err)\n",
    "    plt.title(\"Error for each dt when t = 1\")\n",
    "    plt.xlabel('Step size dt')\n",
    "    plt.ylabel(\"Error\")\n",
    "        \n",
    "    return t, y\n",
    "    \n",
    "    "
   ]
  },
  {
   "cell_type": "markdown",
   "metadata": {},
   "source": [
    "## Exercise"
   ]
  },
  {
   "cell_type": "code",
   "execution_count": 19,
   "metadata": {},
   "outputs": [
    {
     "name": "stdout",
     "output_type": "stream",
     "text": [
      "Results:\n",
      "\n",
      "dt\tapprox\t\terror\n",
      "\n",
      "0.2500 | -1.0000 | [0.5835951825092973]\n",
      "0.1250 | -1.0000 | [0.5835951825092973]\n",
      "0.0625 | -1.0000 | [0.5835951825092973]\n",
      "0.0312 | -1.0000 | [0.5835951825092973]\n",
      "0.0156 | -1.0000 | [0.5835951825092973]\n"
     ]
    },
    {
     "data": {
      "image/png": "[encoded data removed]",
      "text/plain": [
       "<Figure size 432x288 with 1 Axes>"
      ]
     },
     "metadata": {
      "needs_background": "light"
     },
     "output_type": "display_data"
    }
   ],
   "source": [
    "f = lambda y, t: -y * np.sin(t) \n",
    "exact = lambda t: -np.exp(1-np.cos(t))\n",
    "\n",
    "y0 = -1\n",
    "t0 = 0\n",
    "tf = 1\n",
    "\n",
    "dt = np.asarray([1/(2**x) for x in range(2,7)])\n",
    "\n",
    "ts, ys = rk4(f, y0, t0, tf, dt)"
   ]
  },
  {
   "cell_type": "code",
   "execution_count": 43,
   "metadata": {},
   "outputs": [
    {
     "data": {
      "text/plain": [
       "array([-1., -1., -1., -1., -1., -1., -1., -1., -1., -1., -1., -1., -1.,\n",
       "       -1., -1., -1., -1., -1., -1., -1., -1., -1., -1., -1., -1., -1.,\n",
       "       -1., -1., -1., -1., -1., -1., -1., -1., -1., -1., -1., -1., -1.,\n",
       "       -1., -1., -1., -1., -1., -1., -1., -1., -1., -1., -1., -1., -1.,\n",
       "       -1., -1., -1., -1., -1., -1., -1., -1., -1., -1., -1., -1., -1.])"
      ]
     },
     "execution_count": 43,
     "metadata": {},
     "output_type": "execute_result"
    }
   ],
   "source": [
    "ys"
   ]
  },
  {
   "cell_type": "code",
   "execution_count": 25,
   "metadata": {},
   "outputs": [
    {
     "data": {
      "text/plain": [
       "array([0.      , 0.015625, 0.03125 , 0.046875, 0.0625  , 0.078125,\n",
       "       0.09375 , 0.109375, 0.125   , 0.140625, 0.15625 , 0.171875,\n",
       "       0.1875  , 0.203125, 0.21875 , 0.234375, 0.25    , 0.265625,\n",
       "       0.28125 , 0.296875, 0.3125  , 0.328125, 0.34375 , 0.359375,\n",
       "       0.375   , 0.390625, 0.40625 , 0.421875, 0.4375  , 0.453125,\n",
       "       0.46875 , 0.484375, 0.5     , 0.515625, 0.53125 , 0.546875,\n",
       "       0.5625  , 0.578125, 0.59375 , 0.609375, 0.625   , 0.640625,\n",
       "       0.65625 , 0.671875, 0.6875  , 0.703125, 0.71875 , 0.734375,\n",
       "       0.75    , 0.765625, 0.78125 , 0.796875, 0.8125  , 0.828125,\n",
       "       0.84375 , 0.859375, 0.875   , 0.890625, 0.90625 , 0.921875,\n",
       "       0.9375  , 0.953125, 0.96875 , 0.984375, 1.      ])"
      ]
     },
     "execution_count": 25,
     "metadata": {},
     "output_type": "execute_result"
    }
   ],
   "source": [
    "ts"
   ]
  },
  {
   "cell_type": "markdown",
   "metadata": {},
   "source": [
    "## Exercise"
   ]
  },
  {
   "cell_type": "markdown",
   "metadata": {},
   "source": [
    "Region of stability of RK4"
   ]
  },
  {
   "cell_type": "markdown",
   "metadata": {},
   "source": [
    "\\begin{equation*}\n",
    "k_1 = {\\Delta}t{\\lambda}Y^n\n",
    "\\end{equation*}"
   ]
  },
  {
   "cell_type": "markdown",
   "metadata": {},
   "source": [
    "\\begin{equation*}\n",
    "k_2 = {\\Delta}t{\\lambda}(Y^n + \\frac{{\\Delta}t{\\lambda}Y^n}{2})\n",
    "\\end{equation*}"
   ]
  },
  {
   "cell_type": "markdown",
   "metadata": {},
   "source": [
    "\\begin{equation*}\n",
    "k_3 = {\\Delta}t{\\lambda}(1 + \\frac{1}{2}{\\Delta}t{\\lambda}(1 + \\frac{1}{2}{\\Delta}t{\\lambda}))Y^n\n",
    "\\end{equation*}"
   ]
  },
  {
   "cell_type": "markdown",
   "metadata": {},
   "source": [
    "\\begin{equation*}\n",
    "k_3 = {\\Delta}t{\\lambda}(1 + \\frac{1}{2}{\\Delta}t{\\lambda}(1 + \\frac{1}{2}{\\Delta}t{\\lambda}))Y^n\n",
    "\\end{equation*}"
   ]
  },
  {
   "cell_type": "markdown",
   "metadata": {},
   "source": [
    "\\begin{equation*}\n",
    "k_4 = (1 + {\\Delta}t{\\lambda} + ({\\Delta}t{\\lambda})^2 + \\frac{1}{2}({\\Delta}t{\\lambda})^3 + \\frac{1}{4}({\\Delta}t{\\lambda})^4)Y^n\n",
    "\\end{equation*}"
   ]
  },
  {
   "cell_type": "markdown",
   "metadata": {},
   "source": [
    "\\begin{equation*}\n",
    "Y^{n+1}   = Y^n + \\frac{1}{6}k_1 + \\frac{1}{3}k_2 + \\frac{1}{3}k_3 + \\frac{1}{6}k_4\n",
    "\\end{equation*}"
   ]
  },
  {
   "cell_type": "markdown",
   "metadata": {},
   "source": [
    "\\begin{equation*}\n",
    "{\\Lambda}(z) = 1 + {\\Delta}t{\\lambda} + \\frac{1}{2}({\\Delta}t{\\lambda})^2 + \\frac{1}{6}({\\Delta}t{\\lambda})^3 + \\frac{1}{24}({\\Delta}t{\\lambda})^4\n",
    "\\end{equation*}"
   ]
  },
  {
   "cell_type": "markdown",
   "metadata": {},
   "source": [
    "\\begin{equation*}\n",
    "{\\Lambda}(z) = 1 + z + \\frac{1}{2}(z)^2 + \\frac{1}{6}(z)^3 + \\frac{1}{24}(z)^4\n",
    "\\end{equation*}"
   ]
  },
  {
   "cell_type": "code",
   "execution_count": 20,
   "metadata": {},
   "outputs": [
    {
     "data": {
      "image/png": "[encoded data removed]",
      "text/plain": [
       "<Figure size 432x288 with 1 Axes>"
      ]
     },
     "metadata": {
      "needs_background": "light"
     },
     "output_type": "display_data"
    }
   ],
   "source": [
    "#amplification factor for Runge-Kutta Method\n",
    "midpoint_amp = lambda z: (1 + z + (1/2)*(z**2) + (1/6)*(z**3) + (1/24)*(z**4))\n",
    "stabilityPlot(midpoint_amp)"
   ]
  }
 ],
 "metadata": {
  "kernelspec": {
   "display_name": "Python 3",
   "language": "python",
   "name": "python3"
  },
  "language_info": {
   "codemirror_mode": {
    "name": "ipython",
    "version": 3
   },
   "file_extension": ".py",
   "mimetype": "text/x-python",
   "name": "python",
   "nbconvert_exporter": "python",
   "pygments_lexer": "ipython3",
   "version": "3.7.0"
  }
 },
 "nbformat": 4,
 "nbformat_minor": 2
}
