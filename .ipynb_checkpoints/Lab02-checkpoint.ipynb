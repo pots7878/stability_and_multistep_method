{
 "cells": [
  {
   "cell_type": "code",
   "execution_count": null,
   "metadata": {},
   "outputs": [],
   "source": [
    "#import external modules\n",
    "import numpy as np\n",
    "import matplotlib.pyplot as plt\n",
    "%matplotlib inline\n",
    "\n",
    "# def forward_euler(y0, t0, tf, dt, f):\n",
    "def forward_euler(f, t, y0, dt):\n",
    "    \"\"\"\n",
    "    Implementation of the Forward Euler method \n",
    "    y[i+1] = y[i] + h * f(x[i], y[i]) where f(x[i], y[i]) is the differntial \n",
    "    equation evaluated at x[i] and y[i]\n",
    "    Input:\n",
    "        f - function f(y,t)\n",
    "        t - data structure is a numpy array with t[0] initial time \n",
    "        and t[-1] final time\n",
    "        y0 - data structure is a numpy array with initial value 1.0\n",
    "        dt - data structure is a numpy array time step\n",
    "    Output:\n",
    "        x - vector of time steps \n",
    "        y - vector of approximate solutions\n",
    "    \"\"\"\n",
    "    #Initialize error vector\n",
    "    err = []\n",
    "    \n",
    "    #print tabulated results \n",
    "    print(\"Results:\\n\\ndt\\tapprox\\t\\terror\\n\")\n",
    "    \n",
    "    #iterate through eatch delta t \n",
    "    for h in dt:\n",
    "        \n",
    "        #return evenly spaced values between 0.0 and 1.0+h with itervals of h\n",
    "        #this creates time intervals  \n",
    "        x = np.arange(t[0], t[-1]+h, h)\n",
    "        \n",
    "        #initialize y by returning a numpy array with shape 101, filled with zeros \n",
    "        #this preallocation is necessary for time reasons and to add values into array\n",
    "        y = np.zeros(len(x+1))\n",
    "        \n",
    "        #assign time at position 0 to starting time (0.0) and set \n",
    "        #approximation at time step 0 = 1.0 which is \n",
    "        #the initial value given \n",
    "        x[0], y[0] = t[0] ,y0\n",
    "        \n",
    "        #apply Euler's method \n",
    "        for i in range(1, len(x)):\n",
    "            y[i] = y[i-1] + h * f(x[i - 1], y[i - 1])\n",
    "        \n",
    "        #calculate error and append values for each h to err list\n",
    "        e = [np.abs(y[-1] - exact(x[-1]))]\n",
    "        err.append(e)\n",
    "        \n",
    "        #Print tabulated results \n",
    "        print('{:.4f}'.format(round(h,4)), '|', \n",
    "              '{:.4f}'.format(round(y[-1],6)), '|' , err[-1])\n",
    "        \n",
    "    #Plot log log plot \n",
    "    plt.loglog(dt, err)\n",
    "    plt.title(\"Error for each dt when t = 1\")\n",
    "    plt.xlabel('Step size dt')\n",
    "    plt.ylabel(\"Error\")\n",
    "    \n",
    "    #return time (x) and approximations (y)\n",
    "    return x, y, err"
   ]
  },
  {
   "cell_type": "code",
   "execution_count": null,
   "metadata": {},
   "outputs": [],
   "source": [
    "#import external modules \n",
    "import numpy as np\n",
    "\n",
    "lam = -8\n",
    "dt = 0.1\n",
    "\n",
    "#define f and xact lambda functions\n",
    "f = lambda lam, y: (x*y)\n",
    "exact = lambda lam, dt: np.exp(lam*dt)\n",
    "\n",
    "# initial values \n",
    "#list comprehension to create dt values [1/4, 1/8, 1/16, 1/32, 1/64]\n",
    "dt = np.asarray([1/(2**x) for x in range(2,7)])\n",
    "\n",
    "#initialize t(start) and t(final) can index them as start (t[0]) final (t[-1])\n",
    "t = np.array([0.0, 1.0])\n",
    "\n",
    "#IVP initial value y(0) = 1\n",
    "y0 = np.array([1.0])\n",
    "\n",
    "#call function forward_euler\n",
    "ts, ys, err = forward_euler(f, t, y0, dt)\n",
    "\n",
    "#calculate the slope of the log log plot\n",
    "m = (np.log(0.003192141757434319/0.006451437944548166))/(np.log(0.0156/0.0312))\n",
    "print(\"\\nSlope of the log log plot \", round(m,6))"
   ]
  },
  {
   "cell_type": "code",
   "execution_count": null,
   "metadata": {},
   "outputs": [],
   "source": [
    "import numpy as np\n",
    "import matplotlib.pyplot as plt \n",
    "\n",
    "%matplotlib inline\n",
    "\n",
    "def stabilityPlot(func):\n",
    "    \n",
    "    x = np.linspace(-5, 5, 11)\n",
    "    y = np.linspace(-5, 5, 11)\n",
    "    \n",
    "    X, Y = np.meshgrid(x, y)\n",
    "    \n",
    "    stability = np.zeros(len(X))\n",
    "    \n",
    "    for i in range(len(X)):\n",
    "        for j in range(len(Y)):\n",
    "            z = X[i:j] + i*Y[i:j]\n",
    "            stability[i:j] = (abs(func(z))<1)\n",
    "            \n",
    "    plt.contourf(X, Y, stability, 2)"
   ]
  },
  {
   "cell_type": "code",
   "execution_count": 7,
   "metadata": {},
   "outputs": [],
   "source": [
    "import numpy as np\n",
    "x = np.linspace(-5,5,11)"
   ]
  },
  {
   "cell_type": "code",
   "execution_count": 8,
   "metadata": {},
   "outputs": [
    {
     "data": {
      "text/plain": [
       "array([-5., -4., -3., -2., -1.,  0.,  1.,  2.,  3.,  4.,  5.])"
      ]
     },
     "execution_count": 8,
     "metadata": {},
     "output_type": "execute_result"
    }
   ],
   "source": [
    "x"
   ]
  },
  {
   "cell_type": "code",
   "execution_count": null,
   "metadata": {},
   "outputs": [],
   "source": []
  }
 ],
 "metadata": {
  "kernelspec": {
   "display_name": "Python 3",
   "language": "python",
   "name": "python3"
  },
  "language_info": {
   "codemirror_mode": {
    "name": "ipython",
    "version": 3
   },
   "file_extension": ".py",
   "mimetype": "text/x-python",
   "name": "python",
   "nbconvert_exporter": "python",
   "pygments_lexer": "ipython3",
   "version": "3.7.0"
  }
 },
 "nbformat": 4,
 "nbformat_minor": 2
}
